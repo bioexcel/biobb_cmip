{
 "cells": [
  {
   "cell_type": "markdown",
   "metadata": {},
   "source": [
    "# Classical Molecular Interaction Potentials tutorial using BioExcel Building Blocks (biobb)\n",
    "\n",
    "***\n",
    "This tutorial aims to illustrate the process of computing **classical molecular interaction potentials** from **protein structures**, step by step, using the **BioExcel Building Blocks library (biobb)**. The particular example used is the **XXXX** protein (PDB code [XXXX](https://www.rcsb.org/structure/XXXX)).   \n",
    "***\n",
    "\n",
    "## Settings\n",
    "\n",
    "### Biobb modules used\n",
    "\n",
    " - [biobb_cmip](https://github.com/bioexcel/biobb_cmip): Tools to compute classical molecular interaction potentials from protein structures.\n",
    " - [biobb_structure_utils](https://github.com/bioexcel/biobb_structure_utils): Tools to modify or extract information from a PDB structure.\n",
    "  \n",
    "### Auxiliar libraries used\n",
    "\n",
    " - [nb_conda_kernels](https://github.com/Anaconda-Platform/nb_conda_kernels): Enables a Jupyter Notebook or JupyterLab application in one conda environment to access kernels for Python, R, and other languages found in other environments.\n",
    " - [ipywidgets](https://github.com/jupyter-widgets/ipywidgets): Interactive HTML widgets for Jupyter notebooks and the IPython kernel.\n",
    " - [nglview](http://nglviewer.org/#nglview): Jupyter/IPython widget to interactively view molecular structures and trajectories in notebooks.\n",
    " - [plotly](https://plotly.com/python/): Python Open Source Graphing Library. \n",
    "\n",
    "\n",
    "### Conda Installation and Launch\n",
    "\n",
    "```console\n",
    "git clone https://github.com/bioexcel/biobb_wf_cmip.git\n",
    "cd biobb_wf_cmip\n",
    "conda env create -f conda_env/environment.yml\n",
    "conda activate biobb_wf_cmip\n",
    "jupyter-nbextension enable --py --user widgetsnbextension\n",
    "jupyter-notebook biobb_wf_cmip/notebooks/biobb_wf_cmip.ipynb\n",
    "  ``` \n",
    "\n",
    "***\n",
    "## Pipeline steps\n",
    " 1. [Input Parameters](#input)\n",
    " 2. [PDB preparation (from PDB databank)](#preparePDB)\n",
    " 3. [Molecular Interaction Potentials](#mips)\n",
    "    1. [MIP+](#mip_pos) \n",
    "    2. [MIP-](#mip_neg) \n",
    "    3. [MIPn](#mip_neutral) \n",
    " 4. [PDB preparation (from MD)](#preparePDB_MD)\n",
    " 5. [Interaction Potentials](#interaction)\n",
    "    1. [Ligand](#ligand)\n",
    "    2. [Protein](#protein)\n",
    " 6. [Titration](#titration)\n",
    " 7. [Questions & Comments](#questions)\n",
    " \n",
    "***\n",
    "<img src=\"https://bioexcel.eu/wp-content/uploads/2019/04/Bioexcell_logo_1080px_transp.png\" alt=\"Bioexcel2 logo\"\n",
    "\ttitle=\"Bioexcel2 logo\" width=\"400\" />\n",
    "***"
   ]
  },
  {
   "cell_type": "markdown",
   "metadata": {},
   "source": [
    "<a id=\"input\"></a>\n",
    "## Input parameters\n",
    "**Input parameters** needed:\n",
    " - **pdbCode**: PDB code of the protein structure (e.g. 1AKI)"
   ]
  },
  {
   "cell_type": "code",
   "execution_count": null,
   "metadata": {},
   "outputs": [],
   "source": [
    "import nglview\n",
    "import ipywidgets\n",
    "import plotly\n",
    "from plotly import subplots\n",
    "import plotly.graph_objs as go\n",
    "\n",
    "data_folder = \"data/\"\n",
    "pdbCode = \"1aki\"\n",
    "inputPDB = data_folder + pdbCode + \".pdb\"\n",
    "\n",
    "MDCode = \"RBD-hACE2\"\n",
    "inputPDB_MD = data_folder + MDCode + \".noZN.pdb\" \n",
    "inputTOP_MD = data_folder + MDCode + \".top\" "
   ]
  },
  {
   "cell_type": "markdown",
   "metadata": {},
   "source": [
    "<a id=\"preparePDB\"></a>\n",
    "***\n",
    "## PDB Preparation (from PDB databank)\n",
    "CMIP tool needs additional information (e.g. charges, elements) included in the structure PDB file to properly run. In the next cells, a couple of BioBB building blocks will be used to prepare the input PDB file, adding this extra information.   \n",
    "***\n",
    "**Building Blocks** used:\n",
    " - [prepare_pdb](https://biobb-cmip.readthedocs.io/en/latest/cmip.html#module-cmip.prepare_pdb) from **biobb_cmip.cmip.prepare_pdb**\n",
    "***"
   ]
  },
  {
   "cell_type": "code",
   "execution_count": null,
   "metadata": {
    "scrolled": true
   },
   "outputs": [],
   "source": [
    "from biobb_cmip.cmip.prepare_pdb import prepare_pdb\n",
    "\n",
    "cmipPDB = pdbCode + \".cmip.pdb\"\n",
    "\n",
    "prepare_pdb(input_pdb_path=inputPDB,\n",
    "            output_cmip_pdb_path=cmipPDB)"
   ]
  },
  {
   "cell_type": "markdown",
   "metadata": {},
   "source": [
    "<a id=\"mips\"></a>\n",
    "***\n",
    "## Molecular Interaction Potentials (MIPs)\n",
    "...   \n",
    "***\n",
    "**Building Blocks** used:\n",
    " - [cmip](https://biobb-cmip.readthedocs.io/en/latest/cmip.html#module-cmip.cmip) from **biobb_cmip.cmip.cmip**\n",
    "***"
   ]
  },
  {
   "cell_type": "code",
   "execution_count": null,
   "metadata": {
    "scrolled": false
   },
   "outputs": [],
   "source": [
    "from biobb_cmip.cmip.cmip import cmip\n",
    "\n",
    "mip_pos_log = pdbCode + \".mip_pos.log\"\n",
    "mip_pos_cube = pdbCode + \".mip_pos.cube\"\n",
    "\n",
    "prop = { \n",
    "    'execution_type' : 'mip_pos',\n",
    "    'container_path': 'docker',\n",
    "    'container_image': 'quay.io/biocontainers/cmip:2.7.0--h8c3ec31_0',\n",
    "    'container_volume_path': '/inout'\n",
    "}\n",
    "\n",
    "cmip(input_pdb_path=cmipPDB,\n",
    "     output_log_path=mip_pos_log,\n",
    "     output_cube_path=mip_pos_cube,\n",
    "     properties=prop)"
   ]
  },
  {
   "cell_type": "code",
   "execution_count": null,
   "metadata": {},
   "outputs": [],
   "source": [
    "! cat 1aki.mip_pos.log"
   ]
  },
  {
   "cell_type": "code",
   "execution_count": null,
   "metadata": {
    "scrolled": true
   },
   "outputs": [],
   "source": [
    "view = nglview.show_structure_file(mip_pos_cube)\n",
    "view.add_component(cmipPDB)\n",
    "view.clear_representations()\n",
    "view.add_representation(repr_type='cartoon', selection='protein', color='sstruc')\n",
    "view.add_surface(isolevelType=\"value\", isolevel=-5, color=\"blue\")\n",
    "view.component_1.center()\n",
    "view._remote_call('setSize', target='Widget', args=['','600px'])\n",
    "view"
   ]
  },
  {
   "cell_type": "code",
   "execution_count": null,
   "metadata": {
    "scrolled": false
   },
   "outputs": [],
   "source": [
    "from biobb_cmip.cmip.cmip import cmip\n",
    "\n",
    "mip_neg_log = pdbCode + \".mip_neg.log\"\n",
    "mip_neg_cube = pdbCode + \".mip_neg.cube\"\n",
    "\n",
    "prop = { \n",
    "    'execution_type' : 'mip_neg',\n",
    "    'container_path': 'docker',\n",
    "    'container_image': 'quay.io/biocontainers/cmip:2.7.0--h8c3ec31_0',\n",
    "    'container_volume_path': '/inout'\n",
    "}\n",
    "\n",
    "cmip(input_pdb_path=cmipPDB,\n",
    "     output_log_path=mip_neg_log,\n",
    "     output_cube_path=mip_neg_cube,\n",
    "     properties=prop)"
   ]
  },
  {
   "cell_type": "code",
   "execution_count": null,
   "metadata": {},
   "outputs": [],
   "source": [
    "! cat 1aki.mip_neg.log"
   ]
  },
  {
   "cell_type": "code",
   "execution_count": null,
   "metadata": {},
   "outputs": [],
   "source": [
    "view = nglview.show_structure_file(mip_neg_cube)\n",
    "view.add_component(cmipPDB)\n",
    "view.clear_representations()\n",
    "view.add_representation(repr_type='cartoon', selection='protein', color='sstruc')\n",
    "view.add_surface(isolevelType=\"value\", isolevel=-5, color=\"red\")\n",
    "view.component_1.center()\n",
    "view._remote_call('setSize', target='Widget', args=['','600px'])\n",
    "view"
   ]
  },
  {
   "cell_type": "code",
   "execution_count": null,
   "metadata": {},
   "outputs": [],
   "source": [
    "from biobb_cmip.cmip.cmip import cmip\n",
    "\n",
    "mip_neutral_log = pdbCode + \".mip_neutral.log\"\n",
    "mip_neutral_cube = pdbCode + \".mip_neutral.cube\"\n",
    "\n",
    "prop = { \n",
    "    'execution_type' : 'mip_neu',\n",
    "    'container_path': 'docker',\n",
    "    'container_image': 'quay.io/biocontainers/cmip:2.7.0--h8c3ec31_0',\n",
    "    'container_volume_path': '/inout'\n",
    "}\n",
    "\n",
    "cmip(input_pdb_path=cmipPDB,\n",
    "     output_log_path=mip_neutral_log,\n",
    "     output_cube_path=mip_neutral_cube,\n",
    "     properties=prop)"
   ]
  },
  {
   "cell_type": "code",
   "execution_count": null,
   "metadata": {},
   "outputs": [],
   "source": [
    "view = nglview.show_structure_file(mip_neutral_cube)\n",
    "view.add_component(cmipPDB)\n",
    "view.clear_representations()\n",
    "view.add_representation(repr_type='cartoon', selection='protein', color='sstruc')\n",
    "view.add_surface(isolevelType=\"value\", isolevel=-1, color=\"grey\")\n",
    "view.component_1.center()\n",
    "view._remote_call('setSize', target='Widget', args=['','600px'])\n",
    "view"
   ]
  },
  {
   "cell_type": "code",
   "execution_count": null,
   "metadata": {},
   "outputs": [],
   "source": [
    "#Show different structures generated (for comparison)\n",
    "view1 = nglview.show_structure_file(cmipPDB)\n",
    "view1.add_component(mip_pos_cube)\n",
    "view1.component_0.add_representation(repr_type='cartoon', selection='protein', color='sstruc')\n",
    "view1.component_1.add_surface(isolevelType=\"value\", isolevel=-5, color=\"blue\")\n",
    "view1.component_0.center()\n",
    "view1._remote_call('setSize', target='Widget', args=['350px','400px'])\n",
    "view1.camera='orthographic'\n",
    "view1\n",
    "view2 = nglview.show_structure_file(cmipPDB)\n",
    "view2.add_component(mip_neg_cube)\n",
    "view2.component_0.add_representation(repr_type='cartoon', selection='protein', color='sstruc')\n",
    "view2.component_1.add_surface(isolevelType=\"value\", isolevel=-5, color=\"red\")\n",
    "view2.component_0.center()\n",
    "view2._remote_call('setSize', target='Widget', args=['350px','400px'])\n",
    "view2.camera='orthographic'\n",
    "view2\n",
    "view3 = nglview.show_structure_file(cmipPDB)\n",
    "view3.add_component(mip_neutral_cube)\n",
    "view3.component_0.add_representation(repr_type='cartoon', selection='protein', color='sstruc')\n",
    "view3.component_1.add_surface(isolevelType=\"value\", isolevel=-1, color=\"grey\")\n",
    "view3.component_0.center()\n",
    "view3._remote_call('setSize', target='Widget', args=['350px','400px'])\n",
    "view3.camera='orthographic'\n",
    "view3\n",
    "ipywidgets.HBox([view1, view2, view3])"
   ]
  },
  {
   "cell_type": "markdown",
   "metadata": {},
   "source": [
    "<a id=\"preparePDB_MD\"></a>\n",
    "***\n",
    "## PDB Preparation (from Molecular Dynamics)\n",
    "...\n",
    "***\n",
    "**Building Blocks** used:\n",
    " - [prepare_structure](https://biobb-cmip.readthedocs.io/en/latest/cmip.html#module-cmip.prepare_structure) from **biobb_cmip.cmip.prepare_structure**\n",
    "***"
   ]
  },
  {
   "cell_type": "code",
   "execution_count": null,
   "metadata": {},
   "outputs": [],
   "source": [
    "from biobb_structure_utils.utils.extract_chain import extract_chain\n",
    "\n",
    "input_extract_chain = data_folder + \"md.imaged.rot.dry.pdb\"\n",
    "inputPDB_MD_hACE2 = MDCode + \".hACE2.pdb\"\n",
    "inputPDB_MD_RBD = MDCode + \".RBD.pdb\"\n",
    "\n",
    "prop = {\n",
    "    'chains': [ 'A' ],\n",
    "    'permissive': True\n",
    "}\n",
    "extract_chain(input_structure_path=input_extract_chain,\n",
    "              output_structure_path=inputPDB_MD_hACE2,\n",
    "              properties=prop)\n",
    "\n",
    "prop = {\n",
    "    'chains': [ 'B' ],\n",
    "    'permissive': True\n",
    "}\n",
    "extract_chain(input_structure_path=inputPDB_MD,\n",
    "              output_structure_path=inputPDB_MD_RBD,\n",
    "              properties=prop)"
   ]
  },
  {
   "cell_type": "code",
   "execution_count": null,
   "metadata": {
    "scrolled": true
   },
   "outputs": [],
   "source": [
    "from biobb_cmip.cmip.prepare_structure import prepare_structure\n",
    "\n",
    "cmipPDB_MD_hACE2 = MDCode + \".hACE2.cmip.pdb\"\n",
    "cmipPDB_MD_RBD = MDCode + \".RBD.cmip.pdb\"\n",
    "\n",
    "prepare_structure(input_pdb_path=inputPDB_MD_hACE2,\n",
    "                  input_topology_path=inputTOP_MD,\n",
    "                  output_cmip_pdb_path=cmipPDB_MD_hACE2)\n",
    "\n",
    "prepare_structure(input_pdb_path=inputPDB_MD_RBD,\n",
    "                  input_topology_path=inputTOP_MD,\n",
    "                  output_cmip_pdb_path=cmipPDB_MD_RBD)"
   ]
  },
  {
   "cell_type": "markdown",
   "metadata": {},
   "source": [
    "<a id=\"interaction\"></a>\n",
    "***\n",
    "## Interaction Potential Energies \n",
    "... \n",
    "***\n",
    "**Building Blocks** used:\n",
    " - [cmip](https://biobb-cmip.readthedocs.io/en/latest/cmip.html#module-cmip.cmip) from **biobb_cmip.cmip.cmip**\n",
    "***"
   ]
  },
  {
   "cell_type": "code",
   "execution_count": null,
   "metadata": {},
   "outputs": [],
   "source": [
    "from biobb_cmip.cmip.cmip import cmip\n",
    "\n",
    "RBD_energies_log = \"RBD.energies.log\"\n",
    "RBD_byat_out = \"RBD.energies.byat.out\"\n",
    "\n",
    "prop = { \n",
    "    'execution_type' : 'energy',\n",
    "    'remove_tmp': False\n",
    "}\n",
    "\n",
    "cmip(input_pdb_path=cmipPDB_MD_hACE2,\n",
    "     input_probe_pdb_path=cmipPDB_MD_RBD,\n",
    "     output_log_path=RBD_energies_log,\n",
    "     output_byat_path=RBD_byat_out,\n",
    "     properties=prop)"
   ]
  },
  {
   "cell_type": "code",
   "execution_count": null,
   "metadata": {},
   "outputs": [],
   "source": [
    "import nglview as nv\n",
    "from biobb_cmip.utils.representation import create_box_representation\n",
    "\n",
    "boxedFilename, atomPair = create_box_representation(RBD_energies_log, inputPDB_MD)\n",
    "# Represent the new file in ngl\n",
    "view = nv.show_structure_file(boxedFilename, default=False)\n",
    "# Structure\n",
    "view.add_representation(repr_type='cartoon', selection='not het', color='#cccccc', opacity=.2)\n",
    "# ligands box\n",
    "view.add_representation(repr_type='ball+stick', selection='9999', aspectRatio = 10)\n",
    "# lines box\n",
    "view.add_representation(repr_type='distance', atomPair= atomPair, labelColor= 'transparent', color= 'black')\n",
    "view.center()\n",
    "view._remote_call('setSize', target='Widget', args=['','600px'])\n",
    "view"
   ]
  },
  {
   "cell_type": "code",
   "execution_count": null,
   "metadata": {},
   "outputs": [],
   "source": [
    "import plotly\n",
    "import plotly.graph_objs as go\n",
    "from biobb_cmip.utils.representation import get_energies_byat\n",
    "\n",
    "atom_list, energy_dict = get_energies_byat(RBD_byat_out)\n",
    "\n",
    "plotly.offline.init_notebook_mode(connected=True)\n",
    "\n",
    "fig = {\"data\": [go.Scatter(x=atom_list, y=energy_dict['ES'])],\n",
    "       \"layout\": go.Layout(title=\"CMIP Interaction Potential\", xaxis=dict(title = \"Atom Number\"), \n",
    "                           yaxis=dict(title = \"Potential Energy Kcal/mol\"))}\n",
    "\n",
    "plotly.offline.iplot(fig)\n",
    "\n"
   ]
  },
  {
   "cell_type": "code",
   "execution_count": null,
   "metadata": {},
   "outputs": [],
   "source": [
    "import plotly\n",
    "import plotly.graph_objs as go\n",
    "from biobb_cmip.utils.representation import get_energies_byres\n",
    "\n",
    "\n",
    "res_list, energy_dict = get_energies_byres(RBD_byat_out)\n",
    "\n",
    "plotly.offline.init_notebook_mode(connected=True)\n",
    "\n",
    "fig = {\"data\": [go.Scatter(x=res_list, y=energy_dict['ES'])],\n",
    "       \"layout\": go.Layout(title=\"CMIP Interaction Potential\", xaxis=dict(title = \"Residue ID\"), \n",
    "                           yaxis=dict(title = \"Potential Energy Kcal/mol\"))}\n",
    "\n",
    "plotly.offline.iplot(fig)\n",
    "\n"
   ]
  },
  {
   "cell_type": "code",
   "execution_count": null,
   "metadata": {},
   "outputs": [],
   "source": [
    "from biobb_cmip.cmip.prepare_structure import prepare_structure\n",
    "\n",
    "\n",
    "box_pdb_output = 'output_tit_all.pdb'\n",
    "\n",
    "prepare_structure(input_pdb_path=inputPDB_MD,\n",
    "                  input_topology_path=inputTOP_MD,\n",
    "                  output_cmip_pdb_path=box_pdb_output)\n"
   ]
  },
  {
   "cell_type": "code",
   "execution_count": null,
   "metadata": {},
   "outputs": [],
   "source": [
    "from biobb_cmip.cmip.cmip import cmip\n",
    "\n",
    "RBD_energies_log = \"hACE2.box.log\"\n",
    "RBD_byat_out = \"hACE2.box.byat.out\"\n",
    "json_box_out = \"box.json\"\n",
    "\n",
    "prop = { \n",
    "    'execution_type' : 'check_only',\n",
    "    'remove_tmp':False,\n",
    "    'box_size_factor': 0.9\n",
    "}\n",
    "\n",
    "cmip(input_pdb_path=box_pdb_output,\n",
    "     output_log_path=RBD_energies_log,\n",
    "     output_byat_path=RBD_byat_out,\n",
    "     output_json_box_path=json_box_out,\n",
    "     properties=prop)"
   ]
  },
  {
   "cell_type": "code",
   "execution_count": null,
   "metadata": {},
   "outputs": [],
   "source": [
    "import nglview as nv\n",
    "from biobb_cmip.utils.representation import create_box_representation\n",
    "\n",
    "boxedFilename, atomPair = create_box_representation(json_box_out, inputPDB_MD)\n",
    "# Represent the new file in ngl\n",
    "view = nv.show_structure_file(boxedFilename, default=False)\n",
    "# Structure\n",
    "view.add_representation(repr_type='cartoon', selection='not het', color='#cccccc', opacity=.2)\n",
    "# ligands box\n",
    "view.add_representation(repr_type='ball+stick', selection='9999', aspectRatio = 10)\n",
    "# lines box\n",
    "view.add_representation(repr_type='distance', atomPair= atomPair, labelColor= 'transparent', color= 'black')\n",
    "view.center()\n",
    "view._remote_call('setSize', target='Widget', args=['','600px'])\n",
    "view\n",
    "\n"
   ]
  },
  {
   "cell_type": "code",
   "execution_count": null,
   "metadata": {},
   "outputs": [],
   "source": [
    "from biobb_cmip.cmip.ignore_residues import ignore_residues\n",
    "\n",
    "\n",
    "inputPDB_MD_hACE2_ignored = \"inputPDB_MD_hACE2_ignored.pdb\"\n",
    "\n",
    "\n",
    "\n",
    "\n",
    "prop = {\n",
    "    'residue_list': \"A:\"\n",
    "}\n",
    "\n",
    "ignore_residues(input_cmip_pdb_path = box_pdb_output,\n",
    "               output_cmip_pdb_path = inputPDB_MD_hACE2_ignored,\n",
    "               properties = prop)"
   ]
  },
  {
   "cell_type": "code",
   "execution_count": null,
   "metadata": {
    "scrolled": true
   },
   "outputs": [],
   "source": [
    "from biobb_cmip.cmip.cmip import cmip\n",
    "\n",
    "RBD_energies_log = \"hACE2.energies.log\"\n",
    "RBD_byat_out = \"hACE2.energies.byat.out\"\n",
    "\n",
    "prop = { \n",
    "    'execution_type' : 'energy',\n",
    "    'remove_tmp':False,\n",
    "}\n",
    "\n",
    "cmip(input_pdb_path=inputPDB_MD_hACE2_ignored,\n",
    "     input_probe_pdb_path=cmipPDB_MD_hACE2,\n",
    "     output_log_path=RBD_energies_log,\n",
    "     output_byat_path=RBD_byat_out,\n",
    "     input_json_box_path=json_box_out,\n",
    "     properties=prop)"
   ]
  },
  {
   "cell_type": "code",
   "execution_count": null,
   "metadata": {},
   "outputs": [],
   "source": [
    "import nglview as nv\n",
    "from biobb_cmip.utils.representation import create_box_representation\n",
    "\n",
    "boxedFilename, atomPair = create_box_representation(RBD_energies_log, inputPDB_MD)\n",
    "# Represent the new file in ngl\n",
    "view = nv.show_structure_file(boxedFilename, default=False)\n",
    "# Structure\n",
    "view.add_representation(repr_type='cartoon', selection='not het', color='#cccccc', opacity=.2)\n",
    "# ligands box\n",
    "view.add_representation(repr_type='ball+stick', selection='9999', aspectRatio = 10)\n",
    "# lines box\n",
    "view.add_representation(repr_type='distance', atomPair= atomPair, labelColor= 'transparent', color= 'black')\n",
    "view.center()\n",
    "view._remote_call('setSize', target='Widget', args=['','600px'])\n",
    "view"
   ]
  },
  {
   "cell_type": "code",
   "execution_count": null,
   "metadata": {},
   "outputs": [],
   "source": [
    "import plotly\n",
    "import plotly.graph_objs as go\n",
    "from biobb_cmip.utils.representation import get_energies_byat\n",
    "\n",
    "\n",
    "atom_list, energy_dict = get_energies_byat(RBD_byat_out)\n",
    "\n",
    "plotly.offline.init_notebook_mode(connected=True)\n",
    "\n",
    "fig = {\"data\": [go.Scatter(x=atom_list, y=energy_dict['ES'])],\n",
    "       \"layout\": go.Layout(title=\"CMIP Interaction Potential\", xaxis=dict(title = \"Atom Number\"), \n",
    "                           yaxis=dict(title = \"Potential Energy Kcal/mol\"))}\n",
    "\n",
    "plotly.offline.iplot(fig)\n",
    "\n"
   ]
  },
  {
   "cell_type": "code",
   "execution_count": null,
   "metadata": {
    "scrolled": true
   },
   "outputs": [],
   "source": [
    "import plotly\n",
    "import plotly.graph_objs as go\n",
    "from biobb_cmip.utils.representation import get_energies_byres\n",
    "\n",
    "\n",
    "res_list, energy_dict = get_energies_byres(RBD_byat_out)\n",
    "\n",
    "plotly.offline.init_notebook_mode(connected=True)\n",
    "\n",
    "fig = {\"data\": [go.Scatter(x=res_list, y=energy_dict['ES'])],\n",
    "       \"layout\": go.Layout(title=\"CMIP Interaction Potential\", xaxis=dict(title = \"Residue ID\"), \n",
    "                           yaxis=dict(title = \"Interaction Energy Kcal/mol\"))}\n",
    "\n",
    "plotly.offline.iplot(fig)\n",
    "\n"
   ]
  },
  {
   "cell_type": "markdown",
   "metadata": {},
   "source": [
    "<a id=\"titration\"></a>\n",
    "***\n",
    "## PDB Titration\n",
    "...\n",
    "***\n",
    "**Building Blocks** used:\n",
    " - [titration](https://biobb-cmip.readthedocs.io/en/latest/cmip.html#module-cmip.titration) from **biobb_cmip.cmip.titration**\n",
    " - [cat_pdb](https://biobb-structure-utils.readthedocs.io/en/latest/utils.html#module-utils.cat_pdb) from **biobb_structure_utils.utils.cat_pdb**\n",
    "***"
   ]
  },
  {
   "cell_type": "code",
   "execution_count": null,
   "metadata": {
    "scrolled": true
   },
   "outputs": [],
   "source": [
    "from biobb_cmip.cmip.titration import titration\n",
    "\n",
    "titration_input_pdb = data_folder + 'input2.pdb'\n",
    "titration_output_pdb = 'output_tit.pdb'\n",
    "titration_output_log = 'output_tit.log' \n",
    "\n",
    "prop = { \n",
    "    'num_positive_ions' : 5,\n",
    "    'num_negative_ions' : 5,    \n",
    "    'num_wats' : 20,\n",
    "    'container_path': 'docker',\n",
    "    'container_image': 'quay.io/biocontainers/cmip:2.7.0--h8c3ec31_0',\n",
    "    'container_volume_path': '/inout'\n",
    "}\n",
    "\n",
    "titration(input_pdb_path=titration_input_pdb,\n",
    "          output_pdb_path=titration_output_pdb,\n",
    "          output_log_path=titration_output_log,\n",
    "          properties=prop)"
   ]
  },
  {
   "cell_type": "code",
   "execution_count": null,
   "metadata": {},
   "outputs": [],
   "source": [
    "from biobb_structure_utils.utils.cat_pdb import cat_pdb\n",
    "\n",
    "cat_pdb_output = 'output_tit_all.pdb'\n",
    "\n",
    "cat_pdb(input_structure1=titration_input_pdb,\n",
    "        input_structure2=titration_output_pdb,\n",
    "        output_structure_path=cat_pdb_output)"
   ]
  },
  {
   "cell_type": "code",
   "execution_count": null,
   "metadata": {},
   "outputs": [],
   "source": [
    "view = nglview.show_structure_file(cat_pdb_output)\n",
    "view.clear_representations()\n",
    "view.add_representation(repr_type='cartoon', selection='protein', color='sstruc')\n",
    "view.add_representation(repr_type='spacefill', selection='water')\n",
    "view.add_representation(repr_type='spacefill', selection='.Na', color='element')\n",
    "view.add_representation(repr_type='spacefill', selection='.Cl', color='element')\n",
    "view._remote_call('setSize', target='Widget', args=['','600px'])\n",
    "view"
   ]
  }
 ],
 "metadata": {
  "kernelspec": {
   "display_name": "Python 3",
   "language": "python",
   "name": "python3"
  },
  "language_info": {
   "codemirror_mode": {
    "name": "ipython",
    "version": 3
   },
   "file_extension": ".py",
   "mimetype": "text/x-python",
   "name": "python",
   "nbconvert_exporter": "python",
   "pygments_lexer": "ipython3",
   "version": "3.7.10"
  }
 },
 "nbformat": 4,
 "nbformat_minor": 2
}
