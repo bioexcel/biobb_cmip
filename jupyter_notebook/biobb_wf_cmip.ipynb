{
 "cells": [
  {
   "cell_type": "markdown",
   "metadata": {},
   "source": [
    "# Classical Molecular Interaction Potentials tutorial using BioExcel Building Blocks (biobb)\n",
    "\n",
    "***\n",
    "This tutorial aims to illustrate the process of computing **classical molecular interaction potentials** from **protein structures**, step by step, using the **BioExcel Building Blocks library (biobb)**. The particular example used is the **XXXX** protein (PDB code [XXXX](https://www.rcsb.org/structure/XXXX)).   \n",
    "***\n",
    "\n",
    "## Settings\n",
    "\n",
    "### Biobb modules used\n",
    "\n",
    " - [biobb_cmip](https://github.com/bioexcel/biobb_cmip): Tools to compute classical molecular interaction potentials from protein structures.\n",
    " - [biobb_structure_utils](https://github.com/bioexcel/biobb_structure_utils): Tools to modify or extract information from a PDB structure.\n",
    "  \n",
    "### Auxiliar libraries used\n",
    "\n",
    " - [nb_conda_kernels](https://github.com/Anaconda-Platform/nb_conda_kernels): Enables a Jupyter Notebook or JupyterLab application in one conda environment to access kernels for Python, R, and other languages found in other environments.\n",
    " - [ipywidgets](https://github.com/jupyter-widgets/ipywidgets): Interactive HTML widgets for Jupyter notebooks and the IPython kernel.\n",
    " - [nglview](http://nglviewer.org/#nglview): Jupyter/IPython widget to interactively view molecular structures and trajectories in notebooks.\n",
    " - [plotly](https://plotly.com/python/): Python Open Source Graphing Library. \n",
    "\n",
    "\n",
    "### Conda Installation and Launch\n",
    "\n",
    "```console\n",
    "git clone https://github.com/bioexcel/biobb_wf_cmip.git\n",
    "cd biobb_wf_cmip\n",
    "conda env create -f conda_env/environment.yml\n",
    "conda activate biobb_wf_cmip\n",
    "jupyter-nbextension enable --py --user widgetsnbextension\n",
    "jupyter-notebook biobb_wf_cmip/notebooks/biobb_wf_cmip.ipynb\n",
    "  ``` \n",
    "\n",
    "***\n",
    "## Pipeline steps\n",
    " 1. [Input Parameters](#input)\n",
    " 2. [PDB preparation (from PDB databank)](#preparePDB)\n",
    " 3. [Molecular Interaction Potentials](#mips)\n",
    "    1. [MIP+](#mip_pos) \n",
    "    2. [MIP-](#mip_neg) \n",
    "    3. [MIPn](#mip_neutral) \n",
    " 4. [PDB preparation (from MD)](#preparePDB_MD)\n",
    " 5. [Interaction Potentials](#interaction)\n",
    "    1. [Ligand](#ligand)\n",
    "    2. [Protein](#protein)\n",
    " 6. [Titration](#titration)\n",
    " 7. [Questions & Comments](#questions)\n",
    " \n",
    "***\n",
    "<img src=\"https://bioexcel.eu/wp-content/uploads/2019/04/Bioexcell_logo_1080px_transp.png\" alt=\"Bioexcel2 logo\"\n",
    "\ttitle=\"Bioexcel2 logo\" width=\"400\" />\n",
    "***"
   ]
  },
  {
   "cell_type": "markdown",
   "metadata": {},
   "source": [
    "<a id=\"input\"></a>\n",
    "## Input parameters\n",
    "**Input parameters** needed:\n",
    " - **pdbCode**: PDB code of the protein structure (e.g. 1AKI)"
   ]
  },
  {
   "cell_type": "code",
   "execution_count": 9,
   "metadata": {},
   "outputs": [],
   "source": [
    "import nglview\n",
    "import ipywidgets\n",
    "import plotly\n",
    "from plotly import subplots\n",
    "import plotly.graph_objs as go\n",
    "\n",
    "data_folder = \"data/\"\n",
    "pdbCode = \"1aki\"\n",
    "inputPDB = data_folder + pdbCode + \".pdb\"\n",
    "\n",
    "MDCode = \"RBD-hACE2\"\n",
    "inputPDB_MD = data_folder + MDCode + \".noZN.pdb\" \n",
    "inputTOP_MD = data_folder + MDCode + \".top\" "
   ]
  },
  {
   "cell_type": "markdown",
   "metadata": {},
   "source": [
    "<a id=\"preparePDB\"></a>\n",
    "***\n",
    "## PDB Preparation (from PDB databank)\n",
    "CMIP tool needs additional information (e.g. charges, elements) included in the structure PDB file to properly run. In the next cells, a couple of BioBB building blocks will be used to prepare the input PDB file, adding this extra information.   \n",
    "***\n",
    "**Building Blocks** used:\n",
    " - [prepare_pdb](https://biobb-cmip.readthedocs.io/en/latest/cmip.html#module-cmip.prepare_pdb) from **biobb_cmip.cmip.prepare_pdb**\n",
    "***"
   ]
  },
  {
   "cell_type": "code",
   "execution_count": 10,
   "metadata": {
    "scrolled": true
   },
   "outputs": [
    {
     "name": "stdout",
     "output_type": "stream",
     "text": [
      "2022-03-17 12:16:34,087 [MainThread  ] [INFO ]  Not using any container\n",
      "2022-03-17 12:16:34,088 [MainThread  ] [INFO ]  check_structure -v -i data/1aki.pdb -o 1aki.cmip.pdb --output_format cmip --non_interactive command_list --list 'water --remove yes; backbone --add_caps none; fixside --fix All; add_hydrogen --add_mode auto --add_charges CMIP'\n",
      "\n",
      "2022-03-17 12:16:34,852 [MainThread  ] [INFO ]  Exit code 0\n",
      "\n",
      "2022-03-17 12:16:34,854 [MainThread  ] [INFO ]  ===============================================================================\n",
      "=                   BioBB structure checking utility v3.9.10                   =\n",
      "=                 A. Hospital, P. Andrio, J.L. Gelpi 2018-21                  =\n",
      "===============================================================================\n",
      "\n",
      "Warning: sequence features only available in mmCIF format or with external fasta input\n",
      "Structure data/1aki.pdb loaded\n",
      " Title: the structure of the orthorhombic form of hen egg-white lysozyme at 1.5 angstroms resolution\n",
      " Experimental method: x-ray diffraction\n",
      " Keywords: hydrolase, glycosidase\n",
      " Resolution (A): 1.5\n",
      "\n",
      " Num. models: 1\n",
      " Num. chains: 1 (A: Protein)\n",
      " Num. residues:  207\n",
      " Num. residues with ins. codes:  0\n",
      " Num. HETATM residues:  78\n",
      " Num. ligands or modified residues:  0\n",
      " Num. water mol.:  78\n",
      " Num. atoms:  1079\n",
      "\n",
      "\n",
      "Step 1: water --remove yes\n",
      "Running water. Options: --remove yes\n",
      "78 Water molecules detected\n",
      "78 Water molecules removed\n",
      "\n",
      "Step 2:  backbone --add_caps none\n",
      "Running backbone. Options: --add_caps none\n",
      "No residues with missing backbone atoms found\n",
      "No backbone breaks\n",
      "No unexpected backbone links\n",
      "Capping terminal ends\n",
      "True terminal residues:  A1,A129\n",
      "Nothing to do\n",
      "No caps added\n",
      "\n",
      "Step 3:  fixside --fix All\n",
      "Running fixside. Options: --fix All\n",
      "No residues with missing or unknown side chain atoms found\n",
      "\n",
      "Step 4:  add_hydrogen --add_mode auto --add_charges CMIP\n",
      "Running add_hydrogen. Options: --add_mode auto --add_charges CMIP\n",
      "38 Residues requiring selection on adding H atoms\n",
      " CYS A6,A30,A64,A76,A80,A94,A115,A127\n",
      " ASP A18,A48,A52,A66,A87,A101,A119\n",
      " GLU A7,A35\n",
      " HIS A15\n",
      " LYS A1,A13,A33,A96,A97,A116\n",
      " ARG A5,A14,A21,A45,A61,A68,A73,A112,A114,A125,A128\n",
      " TYR A20,A23,A53\n",
      "WARNING: fixing side chains, override with --no_fix_side\n",
      "Running fixside. Options: --fix all\n",
      "No residues with missing or unknown side chain atoms found\n",
      "Selection: auto\n",
      "Replacing HIS A15 by HIE\n",
      "Updating partial charges and atom types\n",
      "Total assigned charge:       8.00\n",
      "Command list completed\n",
      "Final Num. models: 1\n",
      "Final Num. chains: 1 (A: Protein)\n",
      "Final Num. residues:  129\n",
      "Final Num. residues with ins. codes:  0\n",
      "Final Num. HETATM residues:  0\n",
      "Final Num. ligands or modified residues:  0\n",
      "Final Num. water mol.:  0\n",
      "Final Num. atoms:  1968\n",
      "Total charge  8.000\n",
      "Structure saved on 1aki.cmip.pdb\n",
      "\n",
      "2022-03-17 12:16:34,855 [MainThread  ] [INFO ]  Removed: []\n"
     ]
    },
    {
     "data": {
      "text/plain": [
       "0"
      ]
     },
     "execution_count": 10,
     "metadata": {},
     "output_type": "execute_result"
    }
   ],
   "source": [
    "from biobb_cmip.cmip.prepare_pdb import prepare_pdb\n",
    "\n",
    "cmipPDB = pdbCode + \".cmip.pdb\"\n",
    "\n",
    "prepare_pdb(input_pdb_path=inputPDB,\n",
    "            output_cmip_pdb_path=cmipPDB)"
   ]
  },
  {
   "cell_type": "markdown",
   "metadata": {},
   "source": [
    "<a id=\"mips\"></a>\n",
    "***\n",
    "## Molecular Interaction Potentials (MIPs)\n",
    "...   \n",
    "***\n",
    "**Building Blocks** used:\n",
    " - [cmip](https://biobb-cmip.readthedocs.io/en/latest/cmip.html#module-cmip.cmip) from **biobb_cmip.cmip.cmip**\n",
    "***"
   ]
  },
  {
   "cell_type": "code",
   "execution_count": 11,
   "metadata": {
    "scrolled": false
   },
   "outputs": [
    {
     "name": "stdout",
     "output_type": "stream",
     "text": [
      "2022-03-17 12:16:38,445 [MainThread  ] [INFO ]  Copy: 1aki.cmip.pdb to /Users/pau/projects/biobb_cmip/jupyter_notebook/86a4aeab-2d6c-4977-ba87-7b79af59480c\n",
      "2022-03-17 12:16:38,448 [MainThread  ] [INFO ]  Copy: /Users/pau/anaconda3/envs/biobb/share/cmip/dat/vdwprm to /Users/pau/projects/biobb_cmip/jupyter_notebook/86a4aeab-2d6c-4977-ba87-7b79af59480c\n",
      "2022-03-17 12:16:38,450 [MainThread  ] [INFO ]  Copy: 39447092-b1df-4fcf-9667-70faf2c9c19e/params to /Users/pau/projects/biobb_cmip/jupyter_notebook/86a4aeab-2d6c-4977-ba87-7b79af59480c\n",
      "2022-03-17 12:16:38,451 [MainThread  ] [INFO ]  Using Docker image quay.io/biocontainers/cmip:2.7.0--h8c3ec31_0\n",
      "2022-03-17 12:16:38,452 [MainThread  ] [INFO ]  docker run -v /Users/pau/projects/biobb_cmip/jupyter_notebook/86a4aeab-2d6c-4977-ba87-7b79af59480c:/inout quay.io/biocontainers/cmip:2.7.0--h8c3ec31_0 /bin/bash -c \"cmip -i /inout/params -vdw /inout/vdwprm -hs /inout/1aki.cmip.pdb -cube /inout/1aki.mip_pos.cube -o /inout/1aki.mip_pos.log\"\n",
      "\n",
      "2022-03-17 12:16:49,681 [MainThread  ] [INFO ]  Exit code 0\n",
      "\n",
      "2022-03-17 12:16:49,713 [MainThread  ] [INFO ]  Removed: ['39447092-b1df-4fcf-9667-70faf2c9c19e']\n"
     ]
    },
    {
     "data": {
      "text/plain": [
       "0"
      ]
     },
     "execution_count": 11,
     "metadata": {},
     "output_type": "execute_result"
    }
   ],
   "source": [
    "from biobb_cmip.cmip.cmip import cmip\n",
    "\n",
    "mip_pos_log = pdbCode + \".mip_pos.log\"\n",
    "mip_pos_cube = pdbCode + \".mip_pos.cube\"\n",
    "\n",
    "prop = { \n",
    "    'execution_type' : 'mip_pos',\n",
    "    'container_path': 'docker',\n",
    "    'container_image': 'quay.io/biocontainers/cmip:2.7.0--h8c3ec31_0',\n",
    "    'container_volume_path': '/inout'\n",
    "}\n",
    "\n",
    "cmip(input_pdb_path=cmipPDB,\n",
    "     output_log_path=mip_pos_log,\n",
    "     output_cube_path=mip_pos_cube,\n",
    "     properties=prop)"
   ]
  },
  {
   "cell_type": "code",
   "execution_count": 12,
   "metadata": {},
   "outputs": [
    {
     "name": "stdout",
     "output_type": "stream",
     "text": [
      " =================================================\r\n",
      " =                                               =\r\n",
      " =                C M I P  (2.7.0)               =\r\n",
      " =          J. Ll. Gelpi, A. Morreale,           =\r\n",
      " =            F. J. Luque, M.Orozco              =\r\n",
      " =      Dept. Biochemistry. Univ. Barcelona      =\r\n",
      " =                  1999-2021                    =\r\n",
      " =================================================\r\n",
      "\r\n",
      "  Code for ASA calculation by Juan F. Recio       \r\n",
      "\r\n",
      "#T Run started at   11:16:39 h on 17- 3-2022\r\n",
      " SIZES\r\n",
      " -----\r\n",
      " MAXTIP:           100\r\n",
      " MAXATH:            80000\r\n",
      " MAXATP x MAXCONF: 100000\r\n",
      "\r\n",
      " INPUT FILES\r\n",
      " -----------\r\n",
      "    Calc. settings: /inout/params                                                                                                                                         \r\n",
      " VdW Parameters:      /inout/vdwprm                                                                                                                                         \r\n",
      " PDB Host:            /inout/1aki.cmip.pdb                                                                                                                                  \r\n",
      "\r\n",
      " OUTPUT FILES\r\n",
      " ------------\r\n",
      " LOG file:            /inout/1aki.mip_pos.log                                                                                                                               \r\n",
      " Grid Out:            gridout                                                                                                                                               \r\n",
      " Cube Output File:    /inout/1aki.mip_pos.cube                                                                                                                              \r\n",
      "\r\n",
      " Parameters\r\n",
      " ----------\r\n",
      "MIP positive probe                                                              \r\n",
      "&cntrl                                                                          \r\n",
      " tipcalc = 0                                                                    \r\n",
      " calcgrid = 1                                                                   \r\n",
      " irest = 0                                                                      \r\n",
      " orest = 0                                                                      \r\n",
      " coorfmt = 2                                                                    \r\n",
      " dields = 2                                                                     \r\n",
      " cubeoutput = 1                                                                 \r\n",
      " fvdw = 0.8                                                                     \r\n",
      " carmip = 1                                                                     \r\n",
      " tipatmip = 'OW'                                                                \r\n",
      " readgrid = 2                                                                   \r\n",
      " CENX=0.0,CENY=0.0,CENZ=0.0                                                     \r\n",
      " DIMX=64,DIMY=64,DIMZ=64                                                        \r\n",
      " INTX=0.5,INTY=0.5,INTZ=0.5                                                     \r\n",
      "&end                                                                            \r\n",
      "\r\n",
      " 18 VdW parameters loaded successfully\r\n",
      "\r\n",
      " Host:      1968 atoms loaded, charge     8.000\r\n",
      "\r\n",
      " TYPE OF CALCULATION: MIP\r\n",
      " Guest is a OW   with charge   1.000\r\n",
      "\r\n",
      " AUTOMATIC GRID\r\n",
      " --------------\r\n",
      " Fill:    0.800\r\n",
      "Automatic Grid                                                                                                                      \r\n",
      " Grid Size:      48.000  53.000  43.000  90.000  90.000  90.000\r\n",
      " Grid density:    96  106   86\r\n",
      " Grid units:      0.500   0.500   0.500\r\n",
      " Grid origin:     4.489  -1.691 -21.069\r\n",
      " Grid center:    28.489  24.809   0.431\r\n",
      "     902973 Grid points\r\n",
      "\r\n",
      " All input data read succesfully\r\n",
      "\r\n",
      " CLHOST=           0\r\n",
      " EXTERNAL CUTOFF=   999999.000    \r\n",
      " Checking potentials to calculate...\r\n",
      " - Vdw: OW  \r\n",
      " - Electrostatic \r\n",
      "     Dielectric type    :            2\r\n",
      "     Dielectric constant:    2.00000000    \r\n",
      " Vdw energies:\r\n",
      "  -OW   -2.65     0.434E+21\r\n",
      " Electrostatic Potentials:  -2817.888  1880.753\r\n",
      " E. Min. at         -14.7884 kcal/mol\r\n",
      "   - Offset   :       0.0000 kcal/mol\r\n",
      "   - Electr.  :     -13.4866 kcal/mol\r\n",
      "   - Vdw      :      -1.3018 kcal/mol\r\n",
      "   - Int      :       0.0000 kcal/mol\r\n",
      " Energy grid (BINARY) written successfully\r\n",
      " CUBE file written successfully\r\n",
      "\r\n",
      "#T Run finished at  11:16:49 h on 17- 3-2022\r\n",
      "\r\n",
      "#T       T I M I N G S \r\n",
      "#T       ---------------\r\n",
      "#T         Input:     0.081 s,   0.79%\r\n",
      "#T         Setup:     0.010 s,   0.10%\r\n",
      "#T         Grids:     4.378 s,  42.73%\r\n",
      "#T        Energy:     0.024 s,   0.23%\r\n",
      "#T        Output:     5.753 s,  56.15%\r\n",
      " ----------------------------------\r\n",
      "#T         TOTAL:    10.246 s ( 0.00 h)\r\n"
     ]
    }
   ],
   "source": [
    "! cat 1aki.mip_pos.log"
   ]
  },
  {
   "cell_type": "code",
   "execution_count": 13,
   "metadata": {
    "scrolled": true
   },
   "outputs": [
    {
     "data": {
      "application/vnd.jupyter.widget-view+json": {
       "model_id": "6799b638567f4ca5bf5419985dc15ce0",
       "version_major": 2,
       "version_minor": 0
      },
      "text/plain": [
       "NGLWidget()"
      ]
     },
     "metadata": {},
     "output_type": "display_data"
    }
   ],
   "source": [
    "view = nglview.show_structure_file(mip_pos_cube)\n",
    "view.add_component(cmipPDB)\n",
    "view.clear_representations()\n",
    "view.add_representation(repr_type='cartoon', selection='protein', color='sstruc')\n",
    "view.add_surface(isolevelType=\"value\", isolevel=-5, color=\"blue\")\n",
    "view.component_1.center()\n",
    "view._remote_call('setSize', target='Widget', args=['','600px'])\n",
    "view"
   ]
  },
  {
   "cell_type": "code",
   "execution_count": 14,
   "metadata": {
    "scrolled": false
   },
   "outputs": [
    {
     "name": "stdout",
     "output_type": "stream",
     "text": [
      "2022-03-17 12:16:55,594 [MainThread  ] [INFO ]  Copy: 1aki.cmip.pdb to /Users/pau/projects/biobb_cmip/jupyter_notebook/85c46788-eac8-436b-b3cc-d354bbc37317\n",
      "2022-03-17 12:16:55,596 [MainThread  ] [INFO ]  Copy: /Users/pau/anaconda3/envs/biobb/share/cmip/dat/vdwprm to /Users/pau/projects/biobb_cmip/jupyter_notebook/85c46788-eac8-436b-b3cc-d354bbc37317\n",
      "2022-03-17 12:16:55,599 [MainThread  ] [INFO ]  Copy: fb02afc2-e4af-4b1c-a250-814bbf22598b/params to /Users/pau/projects/biobb_cmip/jupyter_notebook/85c46788-eac8-436b-b3cc-d354bbc37317\n",
      "2022-03-17 12:16:55,600 [MainThread  ] [INFO ]  Using Docker image quay.io/biocontainers/cmip:2.7.0--h8c3ec31_0\n",
      "2022-03-17 12:16:55,601 [MainThread  ] [INFO ]  docker run -v /Users/pau/projects/biobb_cmip/jupyter_notebook/85c46788-eac8-436b-b3cc-d354bbc37317:/inout quay.io/biocontainers/cmip:2.7.0--h8c3ec31_0 /bin/bash -c \"cmip -i /inout/params -vdw /inout/vdwprm -hs /inout/1aki.cmip.pdb -cube /inout/1aki.mip_neg.cube -o /inout/1aki.mip_neg.log\"\n",
      "\n",
      "2022-03-17 12:17:06,971 [MainThread  ] [INFO ]  Exit code 0\n",
      "\n",
      "2022-03-17 12:17:06,996 [MainThread  ] [INFO ]  Removed: ['fb02afc2-e4af-4b1c-a250-814bbf22598b']\n"
     ]
    },
    {
     "data": {
      "text/plain": [
       "0"
      ]
     },
     "execution_count": 14,
     "metadata": {},
     "output_type": "execute_result"
    }
   ],
   "source": [
    "from biobb_cmip.cmip.cmip import cmip\n",
    "\n",
    "mip_neg_log = pdbCode + \".mip_neg.log\"\n",
    "mip_neg_cube = pdbCode + \".mip_neg.cube\"\n",
    "\n",
    "prop = { \n",
    "    'execution_type' : 'mip_neg',\n",
    "    'container_path': 'docker',\n",
    "    'container_image': 'quay.io/biocontainers/cmip:2.7.0--h8c3ec31_0',\n",
    "    'container_volume_path': '/inout'\n",
    "}\n",
    "\n",
    "cmip(input_pdb_path=cmipPDB,\n",
    "     output_log_path=mip_neg_log,\n",
    "     output_cube_path=mip_neg_cube,\n",
    "     properties=prop)"
   ]
  },
  {
   "cell_type": "code",
   "execution_count": 15,
   "metadata": {},
   "outputs": [
    {
     "name": "stdout",
     "output_type": "stream",
     "text": [
      " =================================================\r\n",
      " =                                               =\r\n",
      " =                C M I P  (2.7.0)               =\r\n",
      " =          J. Ll. Gelpi, A. Morreale,           =\r\n",
      " =            F. J. Luque, M.Orozco              =\r\n",
      " =      Dept. Biochemistry. Univ. Barcelona      =\r\n",
      " =                  1999-2021                    =\r\n",
      " =================================================\r\n",
      "\r\n",
      "  Code for ASA calculation by Juan F. Recio       \r\n",
      "\r\n",
      "#T Run started at   11:16:56 h on 17- 3-2022\r\n",
      " SIZES\r\n",
      " -----\r\n",
      " MAXTIP:           100\r\n",
      " MAXATH:            80000\r\n",
      " MAXATP x MAXCONF: 100000\r\n",
      "\r\n",
      " INPUT FILES\r\n",
      " -----------\r\n",
      "    Calc. settings: /inout/params                                                                                                                                         \r\n",
      " VdW Parameters:      /inout/vdwprm                                                                                                                                         \r\n",
      " PDB Host:            /inout/1aki.cmip.pdb                                                                                                                                  \r\n",
      "\r\n",
      " OUTPUT FILES\r\n",
      " ------------\r\n",
      " LOG file:            /inout/1aki.mip_neg.log                                                                                                                               \r\n",
      " Grid Out:            gridout                                                                                                                                               \r\n",
      " Cube Output File:    /inout/1aki.mip_neg.cube                                                                                                                              \r\n",
      "\r\n",
      " Parameters\r\n",
      " ----------\r\n",
      "MIP negative probe                                                              \r\n",
      "&cntrl                                                                          \r\n",
      " tipcalc = 0                                                                    \r\n",
      " calcgrid = 1                                                                   \r\n",
      " irest = 0                                                                      \r\n",
      " orest = 0                                                                      \r\n",
      " coorfmt = 2                                                                    \r\n",
      " dields = 2                                                                     \r\n",
      " cubeoutput = 1                                                                 \r\n",
      " fvdw = 0.8                                                                     \r\n",
      " carmip = -1                                                                    \r\n",
      " tipatmip = 'OW'                                                                \r\n",
      " readgrid = 2                                                                   \r\n",
      " CENX=0.0,CENY=0.0,CENZ=0.0                                                     \r\n",
      " DIMX=64,DIMY=64,DIMZ=64                                                        \r\n",
      " INTX=0.5,INTY=0.5,INTZ=0.5                                                     \r\n",
      "&end                                                                            \r\n",
      "\r\n",
      " 18 VdW parameters loaded successfully\r\n",
      "\r\n",
      " Host:      1968 atoms loaded, charge     8.000\r\n",
      "\r\n",
      " TYPE OF CALCULATION: MIP\r\n",
      " Guest is a OW   with charge  -1.000\r\n",
      "\r\n",
      " AUTOMATIC GRID\r\n",
      " --------------\r\n",
      " Fill:    0.800\r\n",
      "Automatic Grid                                                                                                                      \r\n",
      " Grid Size:      48.000  53.000  43.000  90.000  90.000  90.000\r\n",
      " Grid density:    96  106   86\r\n",
      " Grid units:      0.500   0.500   0.500\r\n",
      " Grid origin:     4.489  -1.691 -21.069\r\n",
      " Grid center:    28.489  24.809   0.431\r\n",
      "     902973 Grid points\r\n",
      "\r\n",
      " All input data read succesfully\r\n",
      "\r\n",
      " CLHOST=           0\r\n",
      " EXTERNAL CUTOFF=   999999.000    \r\n",
      " Checking potentials to calculate...\r\n",
      " - Vdw: OW  \r\n",
      " - Electrostatic \r\n",
      "     Dielectric type    :            2\r\n",
      "     Dielectric constant:    2.00000000    \r\n",
      " Vdw energies:\r\n",
      "  -OW   -2.65     0.434E+21\r\n",
      " Electrostatic Potentials:  -2817.888  1880.753\r\n",
      " E. Min. at         -25.3633 kcal/mol\r\n",
      "   - Offset   :       0.0000 kcal/mol\r\n",
      "   - Electr.  :     -25.9457 kcal/mol\r\n",
      "   - Vdw      :       0.5824 kcal/mol\r\n",
      "   - Int      :       0.0000 kcal/mol\r\n",
      " Energy grid (BINARY) written successfully\r\n",
      " CUBE file written successfully\r\n",
      "\r\n",
      "#T Run finished at  11:17: 6 h on 17- 3-2022\r\n",
      "\r\n",
      "#T       T I M I N G S \r\n",
      "#T       ---------------\r\n",
      "#T         Input:     0.060 s,   0.58%\r\n",
      "#T         Setup:     0.011 s,   0.10%\r\n",
      "#T         Grids:     4.647 s,  44.74%\r\n",
      "#T        Energy:     0.020 s,   0.19%\r\n",
      "#T        Output:     5.648 s,  54.38%\r\n",
      " ----------------------------------\r\n",
      "#T         TOTAL:    10.386 s ( 0.00 h)\r\n"
     ]
    }
   ],
   "source": [
    "! cat 1aki.mip_neg.log"
   ]
  },
  {
   "cell_type": "code",
   "execution_count": 16,
   "metadata": {},
   "outputs": [
    {
     "data": {
      "application/vnd.jupyter.widget-view+json": {
       "model_id": "b25c7b82d1f54125916524b4eaafb6a2",
       "version_major": 2,
       "version_minor": 0
      },
      "text/plain": [
       "NGLWidget()"
      ]
     },
     "metadata": {},
     "output_type": "display_data"
    }
   ],
   "source": [
    "view = nglview.show_structure_file(mip_neg_cube)\n",
    "view.add_component(cmipPDB)\n",
    "view.clear_representations()\n",
    "view.add_representation(repr_type='cartoon', selection='protein', color='sstruc')\n",
    "view.add_surface(isolevelType=\"value\", isolevel=-5, color=\"red\")\n",
    "view.component_1.center()\n",
    "view._remote_call('setSize', target='Widget', args=['','600px'])\n",
    "view"
   ]
  },
  {
   "cell_type": "code",
   "execution_count": 17,
   "metadata": {},
   "outputs": [
    {
     "name": "stdout",
     "output_type": "stream",
     "text": [
      "2022-03-17 12:17:16,199 [MainThread  ] [INFO ]  Copy: 1aki.cmip.pdb to /Users/pau/projects/biobb_cmip/jupyter_notebook/d17355a7-febf-46aa-a1fd-f0cf6aa8a6fe\n",
      "2022-03-17 12:17:16,202 [MainThread  ] [INFO ]  Copy: /Users/pau/anaconda3/envs/biobb/share/cmip/dat/vdwprm to /Users/pau/projects/biobb_cmip/jupyter_notebook/d17355a7-febf-46aa-a1fd-f0cf6aa8a6fe\n",
      "2022-03-17 12:17:16,205 [MainThread  ] [INFO ]  Copy: e376c5dd-3c9b-45fa-878a-d3265cb61be6/params to /Users/pau/projects/biobb_cmip/jupyter_notebook/d17355a7-febf-46aa-a1fd-f0cf6aa8a6fe\n",
      "2022-03-17 12:17:16,206 [MainThread  ] [INFO ]  Using Docker image quay.io/biocontainers/cmip:2.7.0--h8c3ec31_0\n",
      "2022-03-17 12:17:16,207 [MainThread  ] [INFO ]  docker run -v /Users/pau/projects/biobb_cmip/jupyter_notebook/d17355a7-febf-46aa-a1fd-f0cf6aa8a6fe:/inout quay.io/biocontainers/cmip:2.7.0--h8c3ec31_0 /bin/bash -c \"cmip -i /inout/params -vdw /inout/vdwprm -hs /inout/1aki.cmip.pdb -cube /inout/1aki.mip_neutral.cube -o /inout/1aki.mip_neutral.log\"\n",
      "\n",
      "2022-03-17 12:17:28,305 [MainThread  ] [INFO ]  Exit code 0\n",
      "\n",
      "2022-03-17 12:17:28,330 [MainThread  ] [INFO ]  Removed: ['e376c5dd-3c9b-45fa-878a-d3265cb61be6']\n"
     ]
    },
    {
     "data": {
      "text/plain": [
       "0"
      ]
     },
     "execution_count": 17,
     "metadata": {},
     "output_type": "execute_result"
    }
   ],
   "source": [
    "from biobb_cmip.cmip.cmip import cmip\n",
    "\n",
    "mip_neutral_log = pdbCode + \".mip_neutral.log\"\n",
    "mip_neutral_cube = pdbCode + \".mip_neutral.cube\"\n",
    "\n",
    "prop = { \n",
    "    'execution_type' : 'mip_neu',\n",
    "    'container_path': 'docker',\n",
    "    'container_image': 'quay.io/biocontainers/cmip:2.7.0--h8c3ec31_0',\n",
    "    'container_volume_path': '/inout'\n",
    "}\n",
    "\n",
    "cmip(input_pdb_path=cmipPDB,\n",
    "     output_log_path=mip_neutral_log,\n",
    "     output_cube_path=mip_neutral_cube,\n",
    "     properties=prop)"
   ]
  },
  {
   "cell_type": "code",
   "execution_count": 18,
   "metadata": {},
   "outputs": [
    {
     "data": {
      "application/vnd.jupyter.widget-view+json": {
       "model_id": "f8d03b95c3af4de9b82c03cee5fd8b11",
       "version_major": 2,
       "version_minor": 0
      },
      "text/plain": [
       "NGLWidget()"
      ]
     },
     "metadata": {},
     "output_type": "display_data"
    }
   ],
   "source": [
    "view = nglview.show_structure_file(mip_neutral_cube)\n",
    "view.add_component(cmipPDB)\n",
    "view.clear_representations()\n",
    "view.add_representation(repr_type='cartoon', selection='protein', color='sstruc')\n",
    "view.add_surface(isolevelType=\"value\", isolevel=-1, color=\"grey\")\n",
    "view.component_1.center()\n",
    "view._remote_call('setSize', target='Widget', args=['','600px'])\n",
    "view"
   ]
  },
  {
   "cell_type": "code",
   "execution_count": 19,
   "metadata": {},
   "outputs": [
    {
     "data": {
      "application/vnd.jupyter.widget-view+json": {
       "model_id": "4d286213d33641988dca0b6a2cf0d772",
       "version_major": 2,
       "version_minor": 0
      },
      "text/plain": [
       "HBox(children=(NGLWidget(), NGLWidget(), NGLWidget()))"
      ]
     },
     "metadata": {},
     "output_type": "display_data"
    }
   ],
   "source": [
    "#Show different structures generated (for comparison)\n",
    "view1 = nglview.show_structure_file(cmipPDB)\n",
    "view1.add_component(mip_pos_cube)\n",
    "view1.component_0.add_representation(repr_type='cartoon', selection='protein', color='sstruc')\n",
    "view1.component_1.add_surface(isolevelType=\"value\", isolevel=-5, color=\"blue\")\n",
    "view1.component_0.center()\n",
    "view1._remote_call('setSize', target='Widget', args=['350px','400px'])\n",
    "view1.camera='orthographic'\n",
    "view1\n",
    "view2 = nglview.show_structure_file(cmipPDB)\n",
    "view2.add_component(mip_neg_cube)\n",
    "view2.component_0.add_representation(repr_type='cartoon', selection='protein', color='sstruc')\n",
    "view2.component_1.add_surface(isolevelType=\"value\", isolevel=-5, color=\"red\")\n",
    "view2.component_0.center()\n",
    "view2._remote_call('setSize', target='Widget', args=['350px','400px'])\n",
    "view2.camera='orthographic'\n",
    "view2\n",
    "view3 = nglview.show_structure_file(cmipPDB)\n",
    "view3.add_component(mip_neutral_cube)\n",
    "view3.component_0.add_representation(repr_type='cartoon', selection='protein', color='sstruc')\n",
    "view3.component_1.add_surface(isolevelType=\"value\", isolevel=-1, color=\"grey\")\n",
    "view3.component_0.center()\n",
    "view3._remote_call('setSize', target='Widget', args=['350px','400px'])\n",
    "view3.camera='orthographic'\n",
    "view3\n",
    "ipywidgets.HBox([view1, view2, view3])"
   ]
  },
  {
   "cell_type": "markdown",
   "metadata": {},
   "source": [
    "<a id=\"preparePDB_MD\"></a>\n",
    "***\n",
    "## PDB Preparation (from Molecular Dynamics)\n",
    "...\n",
    "***\n",
    "**Building Blocks** used:\n",
    " - [prepare_structure](https://biobb-cmip.readthedocs.io/en/latest/cmip.html#module-cmip.prepare_structure) from **biobb_cmip.cmip.prepare_structure**\n",
    "***"
   ]
  },
  {
   "cell_type": "code",
   "execution_count": 20,
   "metadata": {},
   "outputs": [
    {
     "name": "stdout",
     "output_type": "stream",
     "text": [
      "2022-03-17 12:17:29,606 [MainThread  ] [INFO ]  Selected Chains: A\n",
      "2022-03-17 12:17:29,607 [MainThread  ] [INFO ]  Warning: Use permissive=True is a risky option use it under your own responsability\n",
      "2022-03-17 12:17:29,643 [MainThread  ] [INFO ]  Removed: []\n",
      "2022-03-17 12:17:29,647 [MainThread  ] [INFO ]  Selected Chains: B\n",
      "2022-03-17 12:17:29,647 [MainThread  ] [INFO ]  Warning: Use permissive=True is a risky option use it under your own responsability\n",
      "2022-03-17 12:17:29,686 [MainThread  ] [INFO ]  Removed: []\n"
     ]
    }
   ],
   "source": [
    "from biobb_structure_utils.utils.extract_chain import extract_chain\n",
    "\n",
    "input_extract_chain = data_folder + \"md.imaged.rot.dry.pdb\"\n",
    "inputPDB_MD_hACE2 = MDCode + \".hACE2.pdb\"\n",
    "inputPDB_MD_RBD = MDCode + \".RBD.pdb\"\n",
    "\n",
    "prop = {\n",
    "    'chains': [ 'A' ],\n",
    "    'permissive': True\n",
    "}\n",
    "extract_chain(input_structure_path=input_extract_chain,\n",
    "              output_structure_path=inputPDB_MD_hACE2,\n",
    "              properties=prop)\n",
    "\n",
    "prop = {\n",
    "    'chains': [ 'B' ],\n",
    "    'permissive': True\n",
    "}\n",
    "extract_chain(input_structure_path=inputPDB_MD,\n",
    "              output_structure_path=inputPDB_MD_RBD,\n",
    "              properties=prop)"
   ]
  },
  {
   "cell_type": "code",
   "execution_count": 21,
   "metadata": {
    "scrolled": true
   },
   "outputs": [
    {
     "name": "stdout",
     "output_type": "stream",
     "text": [
      "2022-03-17 12:17:29,700 [MainThread  ] [INFO ]  Reading: data/RBD-hACE2.top to extract charges\n",
      "2022-03-17 12:18:14,169 [MainThread  ] [INFO ]  Reading: data/RBD-hACE2.top to extract elements\n",
      "2022-03-17 12:19:24,153 [MainThread  ] [INFO ]  Removed: []\n",
      "2022-03-17 12:19:24,161 [MainThread  ] [INFO ]  Reading: data/RBD-hACE2.top to extract charges\n",
      "2022-03-17 12:20:06,336 [MainThread  ] [INFO ]  Reading: data/RBD-hACE2.top to extract elements\n",
      "2022-03-17 12:21:05,359 [MainThread  ] [INFO ]  Removed: []\n"
     ]
    },
    {
     "data": {
      "text/plain": [
       "0"
      ]
     },
     "execution_count": 21,
     "metadata": {},
     "output_type": "execute_result"
    }
   ],
   "source": [
    "from biobb_cmip.cmip.prepare_structure import prepare_structure\n",
    "\n",
    "cmipPDB_MD_hACE2 = MDCode + \".hACE2.cmip.pdb\"\n",
    "cmipPDB_MD_RBD = MDCode + \".RBD.cmip.pdb\"\n",
    "\n",
    "prepare_structure(input_pdb_path=inputPDB_MD_hACE2,\n",
    "                  input_topology_path=inputTOP_MD,\n",
    "                  output_cmip_pdb_path=cmipPDB_MD_hACE2)\n",
    "\n",
    "prepare_structure(input_pdb_path=inputPDB_MD_RBD,\n",
    "                  input_topology_path=inputTOP_MD,\n",
    "                  output_cmip_pdb_path=cmipPDB_MD_RBD)"
   ]
  },
  {
   "cell_type": "markdown",
   "metadata": {},
   "source": [
    "<a id=\"interaction\"></a>\n",
    "***\n",
    "## Interaction Potential Energies \n",
    "... \n",
    "***\n",
    "**Building Blocks** used:\n",
    " - [cmip](https://biobb-cmip.readthedocs.io/en/latest/cmip.html#module-cmip.cmip) from **biobb_cmip.cmip.cmip**\n",
    "***"
   ]
  },
  {
   "cell_type": "code",
   "execution_count": 22,
   "metadata": {},
   "outputs": [
    {
     "name": "stdout",
     "output_type": "stream",
     "text": [
      "2022-03-17 12:21:05,378 [MainThread  ] [INFO ]  Not using any container\n",
      "2022-03-17 12:21:05,379 [MainThread  ] [INFO ]  cmip -i d45a16b5-9c50-49ed-96e8-bd2a7f47485b/params -vdw /Users/pau/anaconda3/envs/biobb/share/cmip/dat/vdwprm -hs RBD-hACE2.hACE2.cmip.pdb -pr RBD-hACE2.RBD.cmip.pdb -byat RBD.energies.byat.out -o RBD.energies.log\n",
      "\n",
      "2022-03-17 12:21:24,733 [MainThread  ] [INFO ]  Exit code 0\n",
      "\n"
     ]
    },
    {
     "data": {
      "text/plain": [
       "0"
      ]
     },
     "execution_count": 22,
     "metadata": {},
     "output_type": "execute_result"
    }
   ],
   "source": [
    "from biobb_cmip.cmip.cmip import cmip\n",
    "\n",
    "######### Remove this #############\n",
    "cmipPDB_MD_hACE2 = \"RBD-hACE2\" + \".hACE2.cmip.pdb\"\n",
    "cmipPDB_MD_RBD   = \"RBD-hACE2\" + \".RBD.cmip.pdb\"\n",
    "data_folder = \"data/\"\n",
    "pdbCode = \"1aki\"\n",
    "inputPDB = data_folder + pdbCode + \".pdb\"\n",
    "\n",
    "MDCode = \"RBD-hACE2\"\n",
    "inputPDB_MD = data_folder + MDCode + \".noZN.pdb\" \n",
    "inputTOP_MD = data_folder + MDCode + \".top\" \n",
    "###################################\n",
    "\n",
    "RBD_energies_log = \"RBD.energies.log\"\n",
    "RBD_byat_out = \"RBD.energies.byat.out\"\n",
    "\n",
    "prop = { \n",
    "    'execution_type' : 'energy',\n",
    "    'remove_tmp': False\n",
    "}\n",
    "\n",
    "cmip(input_pdb_path=cmipPDB_MD_hACE2,\n",
    "     input_probe_pdb_path=cmipPDB_MD_RBD,\n",
    "     output_log_path=RBD_energies_log,\n",
    "     output_byat_path=RBD_byat_out,\n",
    "     properties=prop)"
   ]
  },
  {
   "cell_type": "code",
   "execution_count": 6,
   "metadata": {},
   "outputs": [
    {
     "name": "stdout",
     "output_type": "stream",
     "text": [
      " =================================================\r\n",
      " =                                               =\r\n",
      " =                C M I P  (2.7.0)               =\r\n",
      " =          J. Ll. Gelpi, A. Morreale,           =\r\n",
      " =            F. J. Luque, M.Orozco              =\r\n",
      " =      Dept. Biochemistry. Univ. Barcelona      =\r\n",
      " =                  1999-2021                    =\r\n",
      " =================================================\r\n",
      "\r\n",
      "  Code for ASA calculation by Juan F. Recio       \r\n",
      "\r\n",
      "#T Run started at   12:15:19 h on 17- 3-2022\r\n",
      " SIZES\r\n",
      " -----\r\n",
      " MAXTIP:           100\r\n",
      " MAXATH:            80000\r\n",
      " MAXATP x MAXCONF: 100000\r\n",
      "\r\n",
      " INPUT FILES\r\n",
      " -----------\r\n",
      "    Calc. settings: db90dc9d-59b8-410d-b45b-29349acb97a3/params                                                                                                           \r\n",
      " VdW Parameters:      /Users/pau/anaconda3/envs/biobb/share/cmip/dat/vdwprm                                                                                                 \r\n",
      " PDB Host:            RBD-hACE2.hACE2.cmip.pdb                                                                                                                              \r\n",
      " PDB Guest:           probpdb                                                                                                                                               \r\n",
      " Conf. energies:      energies                                                                                                                                              \r\n",
      "\r\n",
      " OUTPUT FILES\r\n",
      " ------------\r\n",
      " LOG file:            RBD.energies.log                                                                                                                                      \r\n",
      " Grid Out:            gridout                                                                                                                                               \r\n",
      " Output PDB coords:          outpdb                                                                                                                                                \r\n",
      "\r\n",
      " Parameters\r\n",
      " ----------\r\n",
      "Docking Interaction energy calculation. PB electrostatics                       \r\n",
      "&cntrl                                                                          \r\n",
      " tipcalc = 3                                                                    \r\n",
      " calcgrid = 1                                                                   \r\n",
      " irest = 0                                                                      \r\n",
      " orest = 0                                                                      \r\n",
      " coorfmt = 2                                                                    \r\n",
      " fvdw = 0.8                                                                     \r\n",
      " pbelec = 1                                                                     \r\n",
      " pbinic = 2                                                                     \r\n",
      " wgp = 0                                                                        \r\n",
      " ebyatom = 1                                                                    \r\n",
      " readgrid = 2                                                                   \r\n",
      " CENX=0.0,CENY=0.0,CENZ=0.0                                                     \r\n",
      " DIMX=64,DIMY=64,DIMZ=64                                                        \r\n",
      " INTX0=1.5,INTY0=1.5,INTZ0=1.5                                                  \r\n",
      " readgrid0 = 2                                                                  \r\n",
      " perfill0 = 0.6                                                                 \r\n",
      " pbfocus = 1                                                                    \r\n",
      "&end                                                                            \r\n",
      "\r\n",
      " ERROR: File not found: RBD-hACE2.hACE2.cmip.pdb                                                                                                                              \r\n"
     ]
    }
   ],
   "source": [
    "!cat RBD.energies.log"
   ]
  },
  {
   "cell_type": "code",
   "execution_count": null,
   "metadata": {},
   "outputs": [],
   "source": [
    "import nglview as nv\n",
    "from biobb_cmip.utils.representation import create_box_representation\n",
    "\n",
    "boxedFilename, atomPair = create_box_representation(RBD_energies_log, inputPDB_MD)\n",
    "# Represent the new file in ngl\n",
    "view = nv.show_structure_file(boxedFilename, default=False)\n",
    "# Structure\n",
    "view.add_representation(repr_type='cartoon', selection='not het', color='#cccccc', opacity=.2)\n",
    "# ligands box\n",
    "view.add_representation(repr_type='ball+stick', selection='9999', aspectRatio = 10)\n",
    "# lines box\n",
    "view.add_representation(repr_type='distance', atomPair= atomPair, labelColor= 'transparent', color= 'black')\n",
    "view.center()\n",
    "view._remote_call('setSize', target='Widget', args=['','600px'])\n",
    "view"
   ]
  },
  {
   "cell_type": "code",
   "execution_count": null,
   "metadata": {},
   "outputs": [],
   "source": [
    "import plotly\n",
    "import plotly.graph_objs as go\n",
    "from biobb_cmip.utils.representation import get_energies_byat\n",
    "\n",
    "atom_list, energy_dict = get_energies_byat(RBD_byat_out)\n",
    "\n",
    "plotly.offline.init_notebook_mode(connected=True)\n",
    "\n",
    "fig = {\"data\": [go.Scatter(x=atom_list, y=energy_dict['ES'])],\n",
    "       \"layout\": go.Layout(title=\"CMIP Interaction Potential\", xaxis=dict(title = \"Atom Number\"), \n",
    "                           yaxis=dict(title = \"Potential Energy Kcal/mol\"))}\n",
    "\n",
    "plotly.offline.iplot(fig)\n",
    "\n"
   ]
  },
  {
   "cell_type": "code",
   "execution_count": null,
   "metadata": {},
   "outputs": [],
   "source": [
    "import plotly\n",
    "import plotly.graph_objs as go\n",
    "from biobb_cmip.utils.representation import get_energies_byres\n",
    "\n",
    "\n",
    "res_list, energy_dict = get_energies_byres(RBD_byat_out)\n",
    "\n",
    "plotly.offline.init_notebook_mode(connected=True)\n",
    "\n",
    "fig = {\"data\": [go.Scatter(x=res_list, y=energy_dict['ES'])],\n",
    "       \"layout\": go.Layout(title=\"CMIP Interaction Potential\", xaxis=dict(title = \"Residue ID\"), \n",
    "                           yaxis=dict(title = \"Potential Energy Kcal/mol\"))}\n",
    "\n",
    "plotly.offline.iplot(fig)\n",
    "\n"
   ]
  },
  {
   "cell_type": "code",
   "execution_count": null,
   "metadata": {},
   "outputs": [],
   "source": [
    "from biobb_cmip.cmip.prepare_structure import prepare_structure\n",
    "\n",
    "\n",
    "box_pdb_output = 'output_tit_all.pdb'\n",
    "\n",
    "prepare_structure(input_pdb_path=inputPDB_MD,\n",
    "                  input_topology_path=inputTOP_MD,\n",
    "                  output_cmip_pdb_path=box_pdb_output)\n"
   ]
  },
  {
   "cell_type": "code",
   "execution_count": null,
   "metadata": {},
   "outputs": [],
   "source": [
    "from biobb_cmip.cmip.cmip import cmip\n",
    "\n",
    "RBD_energies_log = \"hACE2.box.log\"\n",
    "RBD_byat_out = \"hACE2.box.byat.out\"\n",
    "json_box_out = \"box.json\"\n",
    "\n",
    "prop = { \n",
    "    'execution_type' : 'check_only',\n",
    "    'remove_tmp':False,\n",
    "    'box_size_factor': 0.9\n",
    "}\n",
    "\n",
    "cmip(input_pdb_path=box_pdb_output,\n",
    "     output_log_path=RBD_energies_log,\n",
    "     output_byat_path=RBD_byat_out,\n",
    "     output_json_box_path=json_box_out,\n",
    "     properties=prop)"
   ]
  },
  {
   "cell_type": "code",
   "execution_count": null,
   "metadata": {},
   "outputs": [],
   "source": [
    "! cat hACE2.box.log"
   ]
  },
  {
   "cell_type": "code",
   "execution_count": null,
   "metadata": {},
   "outputs": [],
   "source": [
    "! cat box.json"
   ]
  },
  {
   "cell_type": "code",
   "execution_count": null,
   "metadata": {},
   "outputs": [],
   "source": [
    "import nglview as nv\n",
    "from biobb_cmip.utils.representation import create_box_representation\n",
    "\n",
    "boxedFilename, atomPair = create_box_representation(json_box_out, inputPDB_MD)\n",
    "# Represent the new file in ngl\n",
    "view = nv.show_structure_file(boxedFilename, default=False)\n",
    "# Structure\n",
    "view.add_representation(repr_type='cartoon', selection='not het', color='#cccccc', opacity=.2)\n",
    "# ligands box\n",
    "view.add_representation(repr_type='ball+stick', selection='9999', aspectRatio = 10)\n",
    "# lines box\n",
    "view.add_representation(repr_type='distance', atomPair= atomPair, labelColor= 'transparent', color= 'black')\n",
    "view.center()\n",
    "view._remote_call('setSize', target='Widget', args=['','600px'])\n",
    "view\n",
    "\n"
   ]
  },
  {
   "cell_type": "code",
   "execution_count": null,
   "metadata": {},
   "outputs": [],
   "source": [
    "!cat output_tit_all.pdb"
   ]
  },
  {
   "cell_type": "code",
   "execution_count": null,
   "metadata": {},
   "outputs": [],
   "source": [
    "%load_ext autoreload\n",
    "%autoreload 2\n",
    "\n",
    "from biobb_cmip.cmip.ignore_residues import ignore_residues\n",
    "\n",
    "\n",
    "inputPDB_MD_hACE2_ignored = \"inputPDB_MD_hACE2_ignored.pdb\"\n",
    "\n",
    "\n",
    "\n",
    "\n",
    "prop = {\n",
    "    'residue_list': \"A:\"\n",
    "}\n",
    "\n",
    "ignore_residues(input_cmip_pdb_path = box_pdb_output,\n",
    "               output_cmip_pdb_path = inputPDB_MD_hACE2_ignored,\n",
    "               properties = prop)"
   ]
  },
  {
   "cell_type": "code",
   "execution_count": null,
   "metadata": {},
   "outputs": [],
   "source": [
    "! cat inputPDB_MD_hACE2_ignored.pdb"
   ]
  },
  {
   "cell_type": "code",
   "execution_count": null,
   "metadata": {
    "scrolled": true
   },
   "outputs": [],
   "source": [
    "from biobb_cmip.cmip.cmip import cmip\n",
    "\n",
    "RBD_energies_log = \"hACE2.energies.log\"\n",
    "RBD_byat_out = \"hACE2.energies.byat.out\"\n",
    "\n",
    "prop = { \n",
    "    'execution_type' : 'energy',\n",
    "    'remove_tmp':False,\n",
    "}\n",
    "\n",
    "cmip(input_pdb_path=inputPDB_MD_hACE2_ignored,\n",
    "     input_probe_pdb_path=cmipPDB_MD_hACE2,\n",
    "     output_log_path=RBD_energies_log,\n",
    "     output_byat_path=RBD_byat_out,\n",
    "     input_json_box_path=json_box_out,\n",
    "     properties=prop)"
   ]
  },
  {
   "cell_type": "code",
   "execution_count": null,
   "metadata": {
    "scrolled": true
   },
   "outputs": [],
   "source": [
    "! cat hACE2.energies.log"
   ]
  },
  {
   "cell_type": "code",
   "execution_count": null,
   "metadata": {},
   "outputs": [],
   "source": [
    "import nglview as nv\n",
    "from biobb_cmip.utils.representation import create_box_representation\n",
    "\n",
    "boxedFilename, atomPair = create_box_representation(RBD_energies_log, inputPDB_MD)\n",
    "# Represent the new file in ngl\n",
    "view = nv.show_structure_file(boxedFilename, default=False)\n",
    "# Structure\n",
    "view.add_representation(repr_type='cartoon', selection='not het', color='#cccccc', opacity=.2)\n",
    "# ligands box\n",
    "view.add_representation(repr_type='ball+stick', selection='9999', aspectRatio = 10)\n",
    "# lines box\n",
    "view.add_representation(repr_type='distance', atomPair= atomPair, labelColor= 'transparent', color= 'black')\n",
    "view.center()\n",
    "view._remote_call('setSize', target='Widget', args=['','600px'])\n",
    "view"
   ]
  },
  {
   "cell_type": "code",
   "execution_count": null,
   "metadata": {},
   "outputs": [],
   "source": [
    "import plotly\n",
    "import plotly.graph_objs as go\n",
    "from biobb_cmip.utils.representation import get_energies_byat\n",
    "\n",
    "\n",
    "atom_list, energy_dict = get_energies_byat(RBD_byat_out)\n",
    "\n",
    "plotly.offline.init_notebook_mode(connected=True)\n",
    "\n",
    "fig = {\"data\": [go.Scatter(x=atom_list, y=energy_dict['ES'])],\n",
    "       \"layout\": go.Layout(title=\"CMIP Interaction Potential\", xaxis=dict(title = \"Atom Number\"), \n",
    "                           yaxis=dict(title = \"Potential Energy Kcal/mol\"))}\n",
    "\n",
    "plotly.offline.iplot(fig)\n",
    "\n"
   ]
  },
  {
   "cell_type": "code",
   "execution_count": null,
   "metadata": {
    "scrolled": true
   },
   "outputs": [],
   "source": [
    "import plotly\n",
    "import plotly.graph_objs as go\n",
    "from biobb_cmip.utils.representation import get_energies_byres\n",
    "\n",
    "\n",
    "res_list, energy_dict = get_energies_byres(RBD_byat_out)\n",
    "\n",
    "plotly.offline.init_notebook_mode(connected=True)\n",
    "\n",
    "fig = {\"data\": [go.Scatter(x=res_list, y=energy_dict['ES'])],\n",
    "       \"layout\": go.Layout(title=\"CMIP Interaction Potential\", xaxis=dict(title = \"Residue ID\"), \n",
    "                           yaxis=dict(title = \"Interaction Energy Kcal/mol\"))}\n",
    "\n",
    "plotly.offline.iplot(fig)\n",
    "\n"
   ]
  },
  {
   "cell_type": "markdown",
   "metadata": {},
   "source": [
    "<a id=\"titration\"></a>\n",
    "***\n",
    "## PDB Titration\n",
    "...\n",
    "***\n",
    "**Building Blocks** used:\n",
    " - [titration](https://biobb-cmip.readthedocs.io/en/latest/cmip.html#module-cmip.titration) from **biobb_cmip.cmip.titration**\n",
    " - [cat_pdb](https://biobb-structure-utils.readthedocs.io/en/latest/utils.html#module-utils.cat_pdb) from **biobb_structure_utils.utils.cat_pdb**\n",
    "***"
   ]
  },
  {
   "cell_type": "code",
   "execution_count": null,
   "metadata": {
    "scrolled": true
   },
   "outputs": [],
   "source": [
    "from biobb_cmip.cmip.titration import titration\n",
    "\n",
    "titration_input_pdb = data_folder + 'input2.pdb'\n",
    "titration_output_pdb = 'output_tit.pdb'\n",
    "titration_output_log = 'output_tit.log' \n",
    "\n",
    "prop = { \n",
    "    'num_positive_ions' : 5,\n",
    "    'num_negative_ions' : 5,    \n",
    "    'num_wats' : 20,\n",
    "    'container_path': 'docker',\n",
    "    'container_image': 'quay.io/biocontainers/cmip:2.7.0--h8c3ec31_0',\n",
    "    'container_volume_path': '/inout'\n",
    "}\n",
    "\n",
    "titration(input_pdb_path=titration_input_pdb,\n",
    "          output_pdb_path=titration_output_pdb,\n",
    "          output_log_path=titration_output_log,\n",
    "          properties=prop)"
   ]
  },
  {
   "cell_type": "code",
   "execution_count": null,
   "metadata": {},
   "outputs": [],
   "source": [
    "from biobb_structure_utils.utils.cat_pdb import cat_pdb\n",
    "\n",
    "cat_pdb_output = 'output_tit_all.pdb'\n",
    "\n",
    "cat_pdb(input_structure1=titration_input_pdb,\n",
    "        input_structure2=titration_output_pdb,\n",
    "        output_structure_path=cat_pdb_output)"
   ]
  },
  {
   "cell_type": "code",
   "execution_count": null,
   "metadata": {},
   "outputs": [],
   "source": [
    "view = nglview.show_structure_file(cat_pdb_output)\n",
    "view.clear_representations()\n",
    "view.add_representation(repr_type='cartoon', selection='protein', color='sstruc')\n",
    "view.add_representation(repr_type='spacefill', selection='water')\n",
    "view.add_representation(repr_type='spacefill', selection='.Na', color='element')\n",
    "view.add_representation(repr_type='spacefill', selection='.Cl', color='element')\n",
    "view._remote_call('setSize', target='Widget', args=['','600px'])\n",
    "view"
   ]
  }
 ],
 "metadata": {
  "kernelspec": {
   "display_name": "Python 3",
   "language": "python",
   "name": "python3"
  },
  "language_info": {
   "codemirror_mode": {
    "name": "ipython",
    "version": 3
   },
   "file_extension": ".py",
   "mimetype": "text/x-python",
   "name": "python",
   "nbconvert_exporter": "python",
   "pygments_lexer": "ipython3",
   "version": "3.7.10"
  }
 },
 "nbformat": 4,
 "nbformat_minor": 2
}
