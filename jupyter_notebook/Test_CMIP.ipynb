{
 "cells": [
  {
   "cell_type": "code",
   "execution_count": 101,
   "id": "5a22c5f3",
   "metadata": {},
   "outputs": [],
   "source": [
    "from biobb_cmip.cmip.prepare_structure import prepare_structure\n",
    "from biobb_common.tools import file_utils as fu"
   ]
  },
  {
   "cell_type": "code",
   "execution_count": 102,
   "id": "7c5553ea",
   "metadata": {},
   "outputs": [],
   "source": [
    "import pytraj as pt\n",
    "\n",
    "input_topology_filename=\"biobb_cmip/biobb_cmip/test/data/cmip/egfr_topology.zip\"\n",
    "top_file = fu.unzip_top(zip_file=input_topology_filename)\n",
    "\n",
    "topology = pt.load_topology(filename=top_file)\n",
    "\n",
    "# Charges\n",
    "pt_charges = list(topology.charge)\n",
    "\n",
    "# Elements\n",
    "standard_elements = { 'hydrogen': 'H', 'carbon': 'C', 'oxygen': 'O', 'nitrogen': 'N', 'sulfur': 'S', 'sodium': 'Na',\n",
    "                      'chlorine': 'Cl', 'zinc': 'Zn', 'fluorine': 'F', 'magnesium': 'Mg', 'phosphorus': 'P' }\n",
    "#pt_atom_types = [standard_elements[atom.element] for atom in topology.atoms]\n",
    "pt_atom_types = []\n",
    "atoms = list(topology.atoms)\n",
    "for a, atom in enumerate(atoms):\n",
    "    element = standard_elements[atom.element]\n",
    "    # Adapt hydrogens element to CMIP requirements\n",
    "    if element == 'H':\n",
    "        # There should we always only 1 bond\n",
    "        # If you have the error below you may need to updated the pytraj version or reintsall pytraj\n",
    "        # ValueError: Buffer dtype mismatch, expected 'int' but got 'long'\n",
    "        bonded_heavy_atom_index = atom.bonded_indices()[0]\n",
    "        bonded_heavy_atom = atoms[bonded_heavy_atom_index]\n",
    "        bonded_heavy_atom_element = standard_elements[bonded_heavy_atom.element]\n",
    "        # Hydrogens bonded to carbons remain as 'H'\n",
    "        if bonded_heavy_atom_element == 'C':\n",
    "            pass\n",
    "        # Hydrogens bonded to oxygen are renamed as 'HO'\n",
    "        elif bonded_heavy_atom_element == 'O':\n",
    "            element = 'HO'\n",
    "        # Hydrogens bonded to nitrogen or sulfur are renamed as 'HN'\n",
    "        elif bonded_heavy_atom_element == 'N' or bonded_heavy_atom_element == 'S':\n",
    "            element = 'HN'\n",
    "        else:\n",
    "            raise SystemExit(\n",
    "                'ERROR: Hydrogen bonded to not supported heavy atom: ' + bonded_heavy_atom_element)\n",
    "    pt_atom_types.append(element)"
   ]
  },
  {
   "cell_type": "code",
   "execution_count": 114,
   "id": "c7e94827",
   "metadata": {},
   "outputs": [
    {
     "name": "stderr",
     "output_type": "stream",
     "text": [
      "/Users/pau/anaconda3/envs/cmip_test/lib/python3.7/site-packages/MDAnalysis/core/universe.py:160: UserWarning: No coordinate reader found for /Users/pau/projects/biobb_cmip/jupyter_notebook/e4c83dcb-cba1-46c9-8636-9bf53a920726/22e5b8be-7314-4da9-98d1-7eef36ef5118.top. Skipping this file.\n",
      "  'this file.'.format(filename))\n"
     ]
    }
   ],
   "source": [
    "import MDAnalysis as mda\n",
    "#from MDAnalysis.topology.guessers import guess_types\n",
    "from MDAnalysis.topology.guessers import guess_atom_element\n",
    "import re\n",
    "import uuid\n",
    "from pathlib import Path\n",
    "\n",
    "def create_unique_file_path(parent_dir= None, extension= None):\n",
    "    if not parent_dir:\n",
    "        parent_dir = Path.cwd\n",
    "    if not extension:\n",
    "        extension = ''\n",
    "    while True:\n",
    "        name = str(uuid.uuid4())+extension\n",
    "        file_path = Path.joinpath(Path(parent_dir).resolve(), name)\n",
    "        if not file_path.exists():\n",
    "            return str(file_path)\n",
    "\n",
    "\n",
    "input_topology_filename=\"biobb_cmip/biobb_cmip/test/data/cmip/egfr_topology.zip\"\n",
    "top_file = fu.unzip_top(zip_file=input_topology_filename)\n",
    "\n",
    "with open(top_file) as tf:\n",
    "    top_lines = tf.readlines()\n",
    "top_file = create_unique_file_path(parent_dir=Path(top_file).parent.resolve(), extension='.top')\n",
    "with open(top_file, 'w') as nt:\n",
    "    for line in top_lines:\n",
    "        if re.search(r\"\\.ff.*\\.itp\", line):\n",
    "            continue\n",
    "        nt.write(line)\n",
    "\n",
    "u = mda.Universe(top_file, topology_format=\"ITP\")\n",
    "mda_charges = [round(val, 4) for val in u.atoms.charges]\n",
    "#mda_atom_types = list(guess_types(u.atoms.names))\n",
    "mda_atom_types = []\n",
    "for atom in u.atoms:\n",
    "    atom_element = guess_atom_element(atom.name)\n",
    "    if atom_element == 'H':\n",
    "        bonded_atom_element = guess_atom_element(atom.bonded_atoms[0].name)\n",
    "        if bonded_atom_element == 'O':\n",
    "            atom_element = 'HO'\n",
    "        elif bonded_atom_element in ['N', 'S']:\n",
    "            atom_element = 'HN'\n",
    "    mda_atom_types.append(atom_element)"
   ]
  },
  {
   "cell_type": "code",
   "execution_count": 115,
   "id": "8e1706e9",
   "metadata": {},
   "outputs": [
    {
     "name": "stdout",
     "output_type": "stream",
     "text": [
      "The lists l1 and l2 are the same\n",
      "[0.1414, 0.1997, 0.1997, 0.1997, 0.0962, 0.0889, -0.0597, 0.03, 0.03, 0.03]\n",
      "[0.1414, 0.1997, 0.1997, 0.1997, 0.0962, 0.0889, -0.0597, 0.03, 0.03, 0.03]\n"
     ]
    }
   ],
   "source": [
    "import functools\n",
    "import math\n",
    "\n",
    "if functools.reduce(lambda x, y : x and y, map(lambda p, q: math.isclose(p,q, abs_tol=0.0001),pt_charges,mda_charges), True):\n",
    "    print (\"The lists l1 and l2 are the same\")\n",
    "else:\n",
    "    print (\"The lists l1 and l2 are not the same\")\n",
    "print(pt_charges[:10])\n",
    "print(mda_charges[:10])"
   ]
  },
  {
   "cell_type": "code",
   "execution_count": 110,
   "id": "fa1e32ce",
   "metadata": {},
   "outputs": [
    {
     "name": "stdout",
     "output_type": "stream",
     "text": [
      "The lists l1 and l2 are the same\n",
      "['N', 'HN', 'HN', 'HN', 'C', 'H', 'C', 'H', 'H', 'H']\n",
      "['N', 'HN', 'HN', 'HN', 'C', 'H', 'C', 'H', 'H', 'H']\n"
     ]
    }
   ],
   "source": [
    "import functools\n",
    "import math\n",
    "\n",
    "if functools.reduce(lambda x, y : x and y, map(lambda p, q: p == q,pt_atom_types,mda_atom_types), True):\n",
    "    print (\"The lists l1 and l2 are the same\")\n",
    "else:\n",
    "    print (\"The lists l1 and l2 are not the same\")\n",
    "print(pt_atom_types[:10])\n",
    "print(mda_atom_types[:10])"
   ]
  },
  {
   "cell_type": "code",
   "execution_count": null,
   "id": "cf3f9fd6",
   "metadata": {},
   "outputs": [],
   "source": []
  }
 ],
 "metadata": {
  "kernelspec": {
   "display_name": "Python [conda env:cmip_test] *",
   "language": "python",
   "name": "conda-env-cmip_test-py"
  },
  "language_info": {
   "codemirror_mode": {
    "name": "ipython",
    "version": 3
   },
   "file_extension": ".py",
   "mimetype": "text/x-python",
   "name": "python",
   "nbconvert_exporter": "python",
   "pygments_lexer": "ipython3",
   "version": "3.7.12"
  }
 },
 "nbformat": 4,
 "nbformat_minor": 5
}
